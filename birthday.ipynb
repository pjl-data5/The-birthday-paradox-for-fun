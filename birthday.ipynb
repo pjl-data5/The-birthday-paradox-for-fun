{
 "cells": [
  {
   "cell_type": "markdown",
   "metadata": {},
   "source": [
    "# The birthday paradox\n",
    "Say your at a party of 30 or more people and one person asks what will the probability be that 2 people or more in a group of at this party has the same birthday? <br>\n",
    "### Reasonable ssumptions:\n",
    "1. Ignore leap years, thus consider only years with 365 days.\n",
    "2. The year is not of relevance but the date - same day and monthout of 365 days. \n",
    "\n",
    "## Simulate this scenario\n",
    "Simulate all possible days (integers) from 1 to 365"
   ]
  },
  {
   "cell_type": "code",
   "execution_count": 1,
   "metadata": {},
   "outputs": [
    {
     "name": "stdout",
     "output_type": "stream",
     "text": [
      "[1, 2, 3, 4, 5, 6, 7, 8, 9, 10, 11, 12, 13, 14, 15, 16, 17, 18, 19, 20, 21, 22, 23, 24, 25, 26, 27, 28, 29, 30, 31, 32, 33, 34, 35, 36, 37, 38, 39, 40, 41, 42, 43, 44, 45, 46, 47, 48, 49, 50, 51, 52, 53, 54, 55, 56, 57, 58, 59, 60, 61, 62, 63, 64, 65, 66, 67, 68, 69, 70, 71, 72, 73, 74, 75, 76, 77, 78, 79, 80, 81, 82, 83, 84, 85, 86, 87, 88, 89, 90, 91, 92, 93, 94, 95, 96, 97, 98, 99, 100, 101, 102, 103, 104, 105, 106, 107, 108, 109, 110, 111, 112, 113, 114, 115, 116, 117, 118, 119, 120, 121, 122, 123, 124, 125, 126, 127, 128, 129, 130, 131, 132, 133, 134, 135, 136, 137, 138, 139, 140, 141, 142, 143, 144, 145, 146, 147, 148, 149, 150, 151, 152, 153, 154, 155, 156, 157, 158, 159, 160, 161, 162, 163, 164, 165, 166, 167, 168, 169, 170, 171, 172, 173, 174, 175, 176, 177, 178, 179, 180, 181, 182, 183, 184, 185, 186, 187, 188, 189, 190, 191, 192, 193, 194, 195, 196, 197, 198, 199, 200, 201, 202, 203, 204, 205, 206, 207, 208, 209, 210, 211, 212, 213, 214, 215, 216, 217, 218, 219, 220, 221, 222, 223, 224, 225, 226, 227, 228, 229, 230, 231, 232, 233, 234, 235, 236, 237, 238, 239, 240, 241, 242, 243, 244, 245, 246, 247, 248, 249, 250, 251, 252, 253, 254, 255, 256, 257, 258, 259, 260, 261, 262, 263, 264, 265, 266, 267, 268, 269, 270, 271, 272, 273, 274, 275, 276, 277, 278, 279, 280, 281, 282, 283, 284, 285, 286, 287, 288, 289, 290, 291, 292, 293, 294, 295, 296, 297, 298, 299, 300, 301, 302, 303, 304, 305, 306, 307, 308, 309, 310, 311, 312, 313, 314, 315, 316, 317, 318, 319, 320, 321, 322, 323, 324, 325, 326, 327, 328, 329, 330, 331, 332, 333, 334, 335, 336, 337, 338, 339, 340, 341, 342, 343, 344, 345, 346, 347, 348, 349, 350, 351, 352, 353, 354, 355, 356, 357, 358, 359, 360, 361, 362, 363, 364, 365]\n"
     ]
    }
   ],
   "source": [
    "import numpy as np\n",
    "\n",
    "\n",
    "possible_days = list(range(1,366)) # Remember Python indexes from 0!\n",
    "print(possible_days)"
   ]
  },
  {
   "cell_type": "markdown",
   "metadata": {},
   "source": [
    "## Sample\n",
    "\n",
    "Draw a simple random sample with replacement of the 30 guests."
   ]
  },
  {
   "cell_type": "code",
   "execution_count": 2,
   "metadata": {},
   "outputs": [
    {
     "name": "stdout",
     "output_type": "stream",
     "text": [
      "[105, 185, 34, 362, 340, 133, 261, 285, 12, 132, 207, 216, 70, 191, 40, 319, 15, 66, 164, 15, 303, 77, 21, 131, 58, 164, 308, 159, 233, 126]\n"
     ]
    }
   ],
   "source": [
    "# Numpy's random generator is employed for size 30\n",
    "init_sample = np.random.choice(possible_days, 30, replace=True)\n",
    "# Set this to be a list \n",
    "init_sample = list(init_sample)\n",
    "print(init_sample)"
   ]
  },
  {
   "cell_type": "markdown",
   "metadata": {},
   "source": [
    "Notice that there is no random seed set. When you run this multiple times it will yield different samples. Technically it is possible to find the same random sample twice, since we're sampling with replacement (very low chance but very cool if it happens). In any case, this won't matter."
   ]
  },
  {
   "cell_type": "markdown",
   "metadata": {},
   "source": [
    "## Eval of the sample data\n",
    "\n",
    "Remember, we want to find a pair of identical days from this sample of all possible days. Employ the following function that uses the count() method."
   ]
  },
  {
   "cell_type": "code",
   "execution_count": 3,
   "metadata": {},
   "outputs": [],
   "source": [
    "possible_duplicates = any(init_sample.count(x) > 1 for x in init_sample)"
   ]
  },
  {
   "cell_type": "markdown",
   "metadata": {},
   "source": [
    "## Experiment\n",
    "Using the above intuition lets compute this many times in order to find the probability"
   ]
  },
  {
   "cell_type": "code",
   "execution_count": 12,
   "metadata": {},
   "outputs": [
    {
     "name": "stdout",
     "output_type": "stream",
     "text": [
      "[False, True, True, False, True, False, False, False, True, False, False, True, True, True, True, True, True, True, True, False, False, False, True, False, True, True, True, True, False, False, True, False, True, True, False, False, True, True, False, True, True, True, False, True, True, False, False, False, True, False, False, False, False, True, False, True, True, False, True, True, True, False, True, False, False, True, True, True, True, True, True, True, False, True, False, True, True, True, True, True, True, True, True, True, True, True, True, False, False, True, True, False, False, True, True, False, True, True, True, True, True, True, False, False, True, False, True, True, True, False, True, True, True, False, True, False, True, True, True, False, True, True, True, False, True, False, True, True, False, True, True, True, False, True, False, True, True, True, False, False, True, True, True, True, True, True, True, True, True, True, False, True, True, True, True, True, True, True, True, True, True, True, False, True, True, True, True, False, True, True, True, True, False, True, True, True, False, False, False, False, False, True, True, True, True, False, True, True, True, True, True, True, False, True, False, True, False, False, True, True, True, False, True, True, False, True, True, True, True, True, True, True, True, True, False, True, False, True, True, True, True, True, False, True, False, True, True, False, True, True, True, False, True, True, True, False, True, True, True, True, True, True, True, True, True, True, True, False, True, True, True, True, True, True, True, False, True, False, False, True, True, False, True, False, True, True, False, False, False, False, True, False, True, True, True, False, False, True, False, False, True, True, True, False, False, True, True, True, False, True, True, True, False, False, True, False, True, False, True, False, False, True, True, True, True, True, False, True, False, False, True, False, True, True, False, False, True, False, True, True, True, False, True, True, True, False, False, False, True, True, False, True, True, False, False, True, True, True, True, True, True, True, True, False, True, False, True, False, False, True, True, True, True, False, True, True, True, True, True, True, True, True, False, True, True, True, False, True, False, True, True, True, True, True, False, False, True, True, True, True, True, True, False, True, True, True, True, False, True, True, True, True, False, True, False, False, True, False, True, True, True, True, False, True, False, False, True, True, True, False, True, True, True, True, True, True, True, True, True, True, True, True, True, True, False, True, True, True, True, True, True, True, True, True, False, True, True, False, True, True, True, True, True, False, True, True, False, True, True, True, False, True, True, True, True, True, False, True, True, False, False, False, True, False, True, True, False, False, True, False, True, True, True, True, True, False, True, False, True, True, True, True, False, True, True, True, False, False, True, True, True, True, False, True, True, True, False, True, True, True, False, True, True, True, False, True, True, True, False, True, True, True, True, True, True, True, True, True, True, True, True, True, True, True, True, False, True, True, True, True, False, False, False, False, True, True, True, True, True, False, True, True, False, True, False, True, True, True, True, False, True, False, False, True, True, True, False, True, False, True, True, True, True, True, False, True, True, False, True, True, False, True, True, True, True, False, True, True, False, True, True, True, True, True, True, True, True, True, True, True, True, True, True, True, False, True, True, True, True, True, True, True, True, True, False, True, True, True, False, True, False, True, True, True, False, True, True, True, True, True, True, True, False, True, False, True, True, True, False, True, True, False, True, False, True, True, False, False, True, True, True, False, True, False, True, False, False, True, True, False, False, False, False, True, True, False, True, False, True, False, True, False, True, True, True, True, True, False, True, True, True, True, False, True, False, False, False, True, True, True, False, True, True, False, True, True, True, False, False, True, False, True, True, False, True, True, True, False, True, True, False, True, True, True, True, True, True, False, True, True, True, True, False, True, True, True, True, True, True, False, True, True, True, True, True, True, True, True, False, True, True, True, False, True, True, True, False, True, True, True, True, True, True, True, False, False, True, False, True, False, True, False, True, True, True, True, True, False, True, False, False, True, True, True, True, True, True, True, True, True, True, True, False, True, True, True, False, True, True, False, False, True, True, True, False, True, False, True, True, True, True, True, True, True, True, False, True, False, True, True, True, True, True, True, True, False, True, True, True, True, True, False, True, True, False, True, True, True, True, True, False, True, False, False, True, False, True, True, True, False, False, True, True, True, True, False, True, True, True, False, True, True, True, True, False, True, False, True, False, True, True, True, True, True, True, True, False, True, True, True, True, False, True, True, False, True, True, True, True, True, True, True, True, True, False, True, True, True, True, True, True, False, True, True, True, True, True, False, True, True, True, True, True, True, False, True, True, True, True, False, True, True, True, True, True, False, True, True, True, True, True, True, True, True, True, False, True, False, True, False, True, True, True, True, True, True, False, True, True, True, False, True, True, True, False, True, True, False, True, True, True, True, True, False, True, False, False, False, True, True, False, False, False, True, True, True, True, True, True, True, True, False, True, True, True, True, False, False, True, True, True, True, False, False, True, True, False, True, True, True, True, False, False, True, True, True, False, True, True, False, True, False, False, True, True, True, True, True, False, True]\n"
     ]
    }
   ],
   "source": [
    "all_repeats = []\n",
    "\n",
    "for i in range(1000):\n",
    "    one_sample = np.random.choice(possible_days, 30, replace=True)\n",
    "    one_sample =list(one_sample)\n",
    "    repeat = any(one_sample.count(x) > 1 for x in one_sample)\n",
    "    all_repeats.append(repeat)\n",
    "    \n",
    "# True where there is duplicates\n",
    "print(all_repeats)"
   ]
  },
  {
   "cell_type": "markdown",
   "metadata": {},
   "source": [
    "## Step 5: Calculate the probability"
   ]
  },
  {
   "cell_type": "code",
   "execution_count": 13,
   "metadata": {},
   "outputs": [
    {
     "name": "stdout",
     "output_type": "stream",
     "text": [
      "Proportion of duplicates: 0.717\n",
      "Proportion of non - duplicates: 0.28300000000000003\n"
     ]
    }
   ],
   "source": [
    "# Count duplicates and find proportion\n",
    "trues = all_repeats.count(True)/1000\n",
    "print(\"Proportion of duplicates:\", trues)\n",
    "# Complement rule of probability\n",
    "falses = 1 - trues\n",
    "print(\"Proportion of non - duplicates:\", falses)"
   ]
  },
  {
   "cell_type": "markdown",
   "metadata": {},
   "source": [
    "Cool! I would refer you to the plethora of online blog post regarding this topic"
   ]
  }
 ],
 "metadata": {
  "kernelspec": {
   "display_name": "Python 3",
   "language": "python",
   "name": "python3"
  },
  "language_info": {
   "codemirror_mode": {
    "name": "ipython",
    "version": 3
   },
   "file_extension": ".py",
   "mimetype": "text/x-python",
   "name": "python",
   "nbconvert_exporter": "python",
   "pygments_lexer": "ipython3",
   "version": "3.8.10"
  }
 },
 "nbformat": 4,
 "nbformat_minor": 2
}
